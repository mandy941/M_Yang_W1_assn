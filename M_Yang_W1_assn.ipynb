{
 "cells": [
  {
   "cell_type": "markdown",
   "metadata": {},
   "source": [
    "# Manling"
   ]
  },
  {
   "cell_type": "markdown",
   "metadata": {},
   "source": [
    "\n",
    "### The thought about data set:\n",
    "      I find the data set relates the Present Trump's approval rating from March 2, 2017 to August 30, 2019.  According to the data set, I can analyze the relationship with time, subgroup, approve, and disapprove.I can find the highest and lowest approving rating number of each subgroup. And connect the result with the time period. Finally, I can know when is the period that each subgroup have the highest and lowest approve rate. In addition, I also can focus on one specific subgroup to analyze the opinions change of the subgroup for Present Trump. It is beneficial for people to know how this subgroup think about the president. \n",
    "      \n",
    "### The link to the data set:\n",
    "      https://github.com/mandy941/M_Yang_W1_assn.git\n",
    "\n"
   ]
  },
  {
   "cell_type": "code",
   "execution_count": null,
   "metadata": {},
   "outputs": [],
   "source": []
  }
 ],
 "metadata": {
  "kernelspec": {
   "display_name": "Python 3",
   "language": "python",
   "name": "python3"
  },
  "language_info": {
   "codemirror_mode": {
    "name": "ipython",
    "version": 3
   },
   "file_extension": ".py",
   "mimetype": "text/x-python",
   "name": "python",
   "nbconvert_exporter": "python",
   "pygments_lexer": "ipython3",
   "version": "3.7.3"
  }
 },
 "nbformat": 4,
 "nbformat_minor": 2
}
